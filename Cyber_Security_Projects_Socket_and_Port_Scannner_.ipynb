{
  "nbformat": 4,
  "nbformat_minor": 0,
  "metadata": {
    "colab": {
      "provenance": [],
      "authorship_tag": "ABX9TyMYVwKIHUyqxemdhXixAP3i"
    },
    "kernelspec": {
      "name": "python3",
      "display_name": "Python 3"
    },
    "language_info": {
      "name": "python"
    }
  },
  "cells": [
    {
      "cell_type": "code",
      "execution_count": 6,
      "metadata": {
        "colab": {
          "base_uri": "https://localhost:8080/",
          "height": 240
        },
        "id": "ARtl9AmJabOm",
        "outputId": "1eb0a5aa-ab3c-4223-ffb8-3cd6e1b6cd17"
      },
      "outputs": [
        {
          "output_type": "error",
          "ename": "TimeoutError",
          "evalue": "ignored",
          "traceback": [
            "\u001b[0;31m---------------------------------------------------------------------------\u001b[0m",
            "\u001b[0;31mTimeoutError\u001b[0m                              Traceback (most recent call last)",
            "\u001b[0;32m<ipython-input-6-06f82c8e3e61>\u001b[0m in \u001b[0;36m<module>\u001b[0;34m\u001b[0m\n\u001b[1;32m      6\u001b[0m \u001b[0mPort\u001b[0m \u001b[0;34m=\u001b[0m \u001b[0;36m7777\u001b[0m\u001b[0;34m\u001b[0m\u001b[0;34m\u001b[0m\u001b[0m\n\u001b[1;32m      7\u001b[0m \u001b[0ms\u001b[0m\u001b[0;34m=\u001b[0m \u001b[0msocket\u001b[0m\u001b[0;34m.\u001b[0m\u001b[0msocket\u001b[0m\u001b[0;34m(\u001b[0m\u001b[0msocket\u001b[0m\u001b[0;34m.\u001b[0m\u001b[0mAF_INET\u001b[0m\u001b[0;34m,\u001b[0m \u001b[0msocket\u001b[0m\u001b[0;34m.\u001b[0m\u001b[0mSOCK_STREAM\u001b[0m\u001b[0;34m)\u001b[0m\u001b[0;34m\u001b[0m\u001b[0;34m\u001b[0m\u001b[0m\n\u001b[0;32m----> 8\u001b[0;31m \u001b[0ms\u001b[0m\u001b[0;34m.\u001b[0m\u001b[0mconnect\u001b[0m\u001b[0;34m(\u001b[0m\u001b[0;34m(\u001b[0m\u001b[0mHost\u001b[0m\u001b[0;34m,\u001b[0m \u001b[0mPort\u001b[0m\u001b[0;34m)\u001b[0m\u001b[0;34m)\u001b[0m\u001b[0;34m\u001b[0m\u001b[0;34m\u001b[0m\u001b[0m\n\u001b[0m\u001b[1;32m      9\u001b[0m \u001b[0;34m\u001b[0m\u001b[0m\n\u001b[1;32m     10\u001b[0m \u001b[0;31m# We'll be using netcat - listen for a connection:\u001b[0m\u001b[0;34m\u001b[0m\u001b[0;34m\u001b[0m\u001b[0;34m\u001b[0m\u001b[0m\n",
            "\u001b[0;31mTimeoutError\u001b[0m: [Errno 110] Connection timed out"
          ]
        }
      ],
      "source": [
        "# Socket:\n",
        "\n",
        "import socket\n",
        "\n",
        "Host = '172.20.10.2'\n",
        "Port = 7777\n",
        "s= socket.socket(socket.AF_INET, socket.SOCK_STREAM)\n",
        "s.connect((Host, Port))\n",
        "\n",
        "# We'll be using netcat - listen for a connection:\n",
        "\n"
      ]
    },
    {
      "cell_type": "code",
      "source": [
        "# Port Scanner:\n",
        "\n",
        "\n",
        "import socket\n",
        "\n",
        "Host = '172.20.10.2'\n",
        "Port = 7777\n",
        "s= socket.socket(socket.AF_INET, socket.SOCK_STREAM)\n",
        "s.connect((Host, Port))\n",
        "\n",
        "# gedit scanner.py\n",
        "\n",
        "\n",
        "# Import relevant libraries or tools here:\n",
        "\n",
        "import sys\n",
        "import socket\n",
        "from datetime import datetime \n",
        "\n",
        "\n",
        "\n",
        "# Script here: \n",
        "\n",
        "# Defining our target: \n",
        "\n",
        "if len(sys.argv) == 2: \n",
        "  target = socket.gethostbyname(sys.argv[1]) # Translates hostname to IPV4\n",
        "else: \n",
        "  print(\"Invalid amount of arguments. \")  \n",
        "\n",
        "# Add a pretty banner: \n",
        "\n",
        "print(\"-\" * 50)\n",
        "print(\"Scanning target \" + target)\n",
        "print(\"Time started: \" +  str(datetime.now()) )\n",
        "print(\"-\" * 50)\n",
        "\n",
        "\n",
        "try: \n",
        "        for port in range(50, 85): \n",
        "              s = socket.socket(socket.AF_INET, socket.SOCK_STREAM)\n",
        "              result = s.connect_ex((target.port)) # returns an error indicator\n",
        "              if result == 0:\n",
        "                print(\"The port is open\".format(port))\n",
        "              s.close()  \n",
        "except KeyboardInterrupt: \n",
        "  print(\"\\nExiting program. \")\n",
        "except socket.gaierror:\n",
        "  sys.exit()\n",
        "except socket.error: \n",
        "  print(\"Couldn't connect to server. \")\n",
        "  sys.exit()       \n",
        "#python3 scanner.py<ip> \n",
        "\n",
        "# checking if the port is open on a machine\n",
        "\n"
      ],
      "metadata": {
        "colab": {
          "base_uri": "https://localhost:8080/",
          "height": 240
        },
        "id": "9pgM5DLlahc1",
        "outputId": "437861ba-41f9-4df9-fdfa-d99ac169bd05"
      },
      "execution_count": 8,
      "outputs": [
        {
          "output_type": "error",
          "ename": "KeyboardInterrupt",
          "evalue": "ignored",
          "traceback": [
            "\u001b[0;31m---------------------------------------------------------------------------\u001b[0m",
            "\u001b[0;31mKeyboardInterrupt\u001b[0m                         Traceback (most recent call last)",
            "\u001b[0;32m<ipython-input-8-e3dd9422be51>\u001b[0m in \u001b[0;36m<module>\u001b[0;34m\u001b[0m\n\u001b[1;32m      7\u001b[0m \u001b[0mPort\u001b[0m \u001b[0;34m=\u001b[0m \u001b[0;36m7777\u001b[0m\u001b[0;34m\u001b[0m\u001b[0;34m\u001b[0m\u001b[0m\n\u001b[1;32m      8\u001b[0m \u001b[0ms\u001b[0m\u001b[0;34m=\u001b[0m \u001b[0msocket\u001b[0m\u001b[0;34m.\u001b[0m\u001b[0msocket\u001b[0m\u001b[0;34m(\u001b[0m\u001b[0msocket\u001b[0m\u001b[0;34m.\u001b[0m\u001b[0mAF_INET\u001b[0m\u001b[0;34m,\u001b[0m \u001b[0msocket\u001b[0m\u001b[0;34m.\u001b[0m\u001b[0mSOCK_STREAM\u001b[0m\u001b[0;34m)\u001b[0m\u001b[0;34m\u001b[0m\u001b[0;34m\u001b[0m\u001b[0m\n\u001b[0;32m----> 9\u001b[0;31m \u001b[0ms\u001b[0m\u001b[0;34m.\u001b[0m\u001b[0mconnect\u001b[0m\u001b[0;34m(\u001b[0m\u001b[0;34m(\u001b[0m\u001b[0mHost\u001b[0m\u001b[0;34m,\u001b[0m \u001b[0mPort\u001b[0m\u001b[0;34m)\u001b[0m\u001b[0;34m)\u001b[0m\u001b[0;34m\u001b[0m\u001b[0;34m\u001b[0m\u001b[0m\n\u001b[0m\u001b[1;32m     10\u001b[0m \u001b[0;34m\u001b[0m\u001b[0m\n\u001b[1;32m     11\u001b[0m \u001b[0;31m# gedit scanner.py\u001b[0m\u001b[0;34m\u001b[0m\u001b[0;34m\u001b[0m\u001b[0;34m\u001b[0m\u001b[0m\n",
            "\u001b[0;31mKeyboardInterrupt\u001b[0m: "
          ]
        }
      ]
    }
  ]
}