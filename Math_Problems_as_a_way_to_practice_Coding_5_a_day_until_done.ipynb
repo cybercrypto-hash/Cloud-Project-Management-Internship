{
  "nbformat": 4,
  "nbformat_minor": 0,
  "metadata": {
    "colab": {
      "name": "Math Problems as a way to practice Coding - 5 a day until done",
      "provenance": [],
      "authorship_tag": "ABX9TyOz/ewVGEtjlmRet2KRWtKu",
      "include_colab_link": true
    },
    "kernelspec": {
      "name": "python3",
      "display_name": "Python 3"
    },
    "language_info": {
      "name": "python"
    }
  },
  "cells": [
    {
      "cell_type": "markdown",
      "metadata": {
        "id": "view-in-github",
        "colab_type": "text"
      },
      "source": [
        "<a href=\"https://colab.research.google.com/github/cybercrypto-hash/Cloud-Project-Management-Internship/blob/master/Math_Problems_as_a_way_to_practice_Coding_5_a_day_until_done.ipynb\" target=\"_parent\"><img src=\"https://colab.research.google.com/assets/colab-badge.svg\" alt=\"Open In Colab\"/></a>"
      ]
    },
    {
      "cell_type": "code",
      "execution_count": 55,
      "metadata": {
        "colab": {
          "base_uri": "https://localhost:8080/"
        },
        "id": "iEqvC8PlgsNR",
        "outputId": "26963de4-9bad-4ed0-e8f9-786c11ad1c1a"
      },
      "outputs": [
        {
          "output_type": "stream",
          "name": "stdout",
          "text": [
            "125 125\n",
            "The area of the triangle is as follows 30.0\n",
            "1.9\n",
            "3.0\n",
            "2.7\n",
            "4.56\n",
            "-1.1\n",
            "-1.8599999999999994\n",
            "The distance between points is: 2.160925727552893\n",
            "1.8599999999999994\n",
            "1.1\n",
            "The slope is equal to 1.6909090909090903\n"
          ]
        }
      ],
      "source": [
        "# Math formulas as practice solving coding problems July 13, 2022\n",
        "\n",
        "\n",
        "# 1. Pythagoreans Theorem \n",
        "a = 5\n",
        "b = 10\n",
        "\"\"\"a = (input(\"Enter some number here:\"))\n",
        "b = (input(\"Enter some number here:\"))\n",
        "c = (input(\"Enter some number here:\"))\"\"\"\n",
        "answer_of_t = a**2 + b**2 \n",
        "c2= answer_of_t\n",
        "\n",
        "print(answer_of_t, c2)\n",
        "\n",
        "\n",
        "# 2. Finding the area of a triangle \n",
        "\n",
        "area_of_t = \"base times  height multiplied by one half. \"\n",
        "\n",
        "base = 20\n",
        "width = 2\n",
        "height = 3\n",
        "\n",
        "answer = base * height * 0.5\n",
        "print( \"The area of the triangle is as follows\",answer)\n",
        "\n",
        "# 3. Find the mean of a list of numbers without using any built-in functions. \n",
        "\n",
        "numbers = [1.9,2.7,3.00,4.56,22.98,33.01,55.50]\n",
        "# a = sum(numbers)/len(numbers)\n",
        "\n",
        "\n",
        "# 4. Distance formula = sqrt of (x1-x2) +(y1-y2)\n",
        "\n",
        "x1 = numbers[0]\n",
        "print(x1)\n",
        "x2 = numbers[2]\n",
        "print(x2)\n",
        "y1 = numbers[1]\n",
        "print(y1)\n",
        "y2= numbers[3]\n",
        "print(y2)\n",
        "\n",
        "x_s = x1 - x2; print(x_s)\n",
        "Final_x = x_s**2\n",
        "\n",
        "y_s = y1 - y2; print(y_s)\n",
        "Final_y = y_s**2\n",
        "\n",
        "import numpy as np\n",
        "answers = Final_x + Final_y\n",
        "final_answer = np.sqrt(answers); print(\"The distance between points is:\", final_answer)\n",
        "\n",
        "# 5. Last formula is slope we can reuse some of our previously written code. \n",
        "\n",
        "\n",
        "slope_ys = y2-y1; print(slope_ys)\n",
        "slope_xs = x2-x1; print(slope_xs)\n",
        "slope = slope_ys/ slope_xs\n",
        "print(\"The slope is equal to\", slope)"
      ]
    },
    {
      "cell_type": "code",
      "source": [
        ""
      ],
      "metadata": {
        "id": "sbT_koMhjk9V"
      },
      "execution_count": null,
      "outputs": []
    }
  ]
}